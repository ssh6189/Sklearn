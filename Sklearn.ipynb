{
 "cells": [
  {
   "cell_type": "code",
   "execution_count": 1,
   "metadata": {},
   "outputs": [
    {
     "name": "stdout",
     "output_type": "stream",
     "text": [
      "[[0, 0], [1, 0], [0, 1], [1, 1]] 의예측 결과 :  [0 0 0 1]\n",
      "정답률 =  1.0\n"
     ]
    }
   ],
   "source": [
    "#AND 연산 구현\n",
    "#라이브러리 읽어 들이기\n",
    "from sklearn.svm import LinearSVC\n",
    "from sklearn.metrics import accuracy_score\n",
    "\n",
    "#학습 전용 데이터와 결과 준비하기\n",
    "#X, Y\n",
    "learn_data = [[0,0], [1,0], [0,1], [1,1]]\n",
    "\n",
    "#X and Y\n",
    "learn_label = [0, 0, 0, 1]\n",
    "\n",
    "#알고리즘 저장하기(Linear SVC)\n",
    "clf = LinearSVC()\n",
    "\n",
    "#학습 전용 데이터와 결과 학습하기\n",
    "clf.fit(learn_data,learn_label)\n",
    "\n",
    "#테스터 데이터로 예측하기\n",
    "test_data = [[0,0], [1,0], [0,1], [1,1]]\n",
    "test_label = clf.predict(test_data)\n",
    "\n",
    "#예측결과 평가하기\n",
    "print(test_data, \"의예측 결과 : \", test_label)\n",
    "print(\"정답률 = \", accuracy_score([0, 0, 0, 1], test_label))"
   ]
  },
  {
   "cell_type": "code",
   "execution_count": 2,
   "metadata": {},
   "outputs": [
    {
     "name": "stdout",
     "output_type": "stream",
     "text": [
      "[[0, 0], [1, 0], [0, 1], [1, 1]] 의 예측 결과 :  [0 0 0 0]\n",
      "정답률 =  0.5\n"
     ]
    }
   ],
   "source": [
    "#XOR 연산 구현 - 1\n",
    "#라이브러리 읽어 들이기\n",
    "from sklearn.svm import LinearSVC\n",
    "from sklearn.metrics import accuracy_score\n",
    "\n",
    "#학습 전용 데이터와 결과 준비하기\n",
    "#X, Y\n",
    "learn_data = [[0,0], [1,0], [0,1], [1,1]]\n",
    "\n",
    "#X xor Y\n",
    "learn_label = [0, 1, 1, 0]\n",
    "\n",
    "#알고리즘 저장하기(Linear SVC)\n",
    "clf = LinearSVC()\n",
    "\n",
    "#학습 전용 데이터와 결과 학습하기\n",
    "clf.fit(learn_data,learn_label)\n",
    "\n",
    "#테스터 데이터로 예측하기\n",
    "test_data = [[0,0], [1,0], [0,1], [1,1]]\n",
    "test_label = clf.predict(test_data)\n",
    "\n",
    "#예측결과 평가하기\n",
    "print(test_data, \"의 예측 결과 : \", test_label)\n",
    "print(\"정답률 = \", accuracy_score([0, 1, 1, 0], test_label))"
   ]
  },
  {
   "cell_type": "code",
   "execution_count": 3,
   "metadata": {},
   "outputs": [
    {
     "name": "stdout",
     "output_type": "stream",
     "text": [
      "[[0, 0], [1, 0], [0, 1], [1, 1]] 의 예측 결과 :  [0 1 1 0]\n",
      "정답률 =  1.0\n"
     ]
    }
   ],
   "source": [
    "#XOR 연산 구현 - 2\n",
    "#라이브러리 읽어 들이기\n",
    "from sklearn.neighbors import KNeighborsClassifier\n",
    "from sklearn.metrics import accuracy_score\n",
    "\n",
    "#학습 전용 데이터와 결과 준비하기\n",
    "#X, Y\n",
    "learn_data = [[0,0], [1,0], [0,1], [1,1]]\n",
    "\n",
    "#X xor Y\n",
    "learn_label = [0, 1, 1, 0]\n",
    "\n",
    "#알고리즘 저장하기(Linear KNeighborsClassifier)\n",
    "clf = KNeighborsClassifier(n_neighbors = 1)\n",
    "\n",
    "#학습 전용 데이터와 결과 학습하기\n",
    "clf.fit(learn_data,learn_label)\n",
    "\n",
    "#테스터 데이터로 예측하기\n",
    "test_data = [[0,0], [1,0], [0,1], [1,1]]\n",
    "test_label = clf.predict(test_data)\n",
    "\n",
    "#예측결과 평가하기\n",
    "print(test_data, \"의 예측 결과 : \", test_label)\n",
    "print(\"정답률 = \", accuracy_score([0, 1, 1, 0], test_label))"
   ]
  }
 ],
 "metadata": {
  "kernelspec": {
   "display_name": "Python 3",
   "language": "python",
   "name": "python3"
  },
  "language_info": {
   "codemirror_mode": {
    "name": "ipython",
    "version": 3
   },
   "file_extension": ".py",
   "mimetype": "text/x-python",
   "name": "python",
   "nbconvert_exporter": "python",
   "pygments_lexer": "ipython3",
   "version": "3.7.7"
  }
 },
 "nbformat": 4,
 "nbformat_minor": 4
}
